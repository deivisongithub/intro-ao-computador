{
 "cells": [
  {
   "cell_type": "markdown",
   "metadata": {},
   "source": [
    "Manipulando os caracteres pela tabela ASCII"
   ]
  },
  {
   "cell_type": "code",
   "execution_count": null,
   "metadata": {
    "scrolled": false
   },
   "outputs": [],
   "source": [
    "chave = 3\n",
    "\n",
    "a = 'a'\n",
    "num_a = ord(a)\n",
    "print(a)\n",
    "print(num_a)\n",
    "\n",
    "num_crip = num_a + chave\n",
    "print(num_crip)\n",
    "\n",
    "char_cript = chr(num_crip)\n",
    "print(char_cript)\n",
    "\n",
    "\n",
    "num_decript = ord(char_cript)\n",
    "char_decript = chr(num_decript - chave)\n",
    "print(char_decript)"
   ]
  },
  {
   "cell_type": "markdown",
   "metadata": {},
   "source": [
    "Manipulando string"
   ]
  },
  {
   "cell_type": "code",
   "execution_count": 1,
   "metadata": {},
   "outputs": [
    {
     "ename": "NameError",
     "evalue": "name 'chave' is not defined",
     "output_type": "error",
     "traceback": [
      "\u001b[1;31m---------------------------------------------------------------------------\u001b[0m",
      "\u001b[1;31mNameError\u001b[0m                                 Traceback (most recent call last)",
      "\u001b[1;32m<ipython-input-1-062428f6e010>\u001b[0m in \u001b[0;36m<module>\u001b[1;34m\u001b[0m\n\u001b[0;32m      2\u001b[0m \u001b[0mstr_retorno\u001b[0m \u001b[1;33m=\u001b[0m \u001b[1;33m[\u001b[0m\u001b[1;33m]\u001b[0m\u001b[1;33m\u001b[0m\u001b[1;33m\u001b[0m\u001b[0m\n\u001b[0;32m      3\u001b[0m \u001b[1;32mfor\u001b[0m \u001b[0ma\u001b[0m \u001b[1;32min\u001b[0m \u001b[0mstr\u001b[0m\u001b[1;33m:\u001b[0m\u001b[1;33m\u001b[0m\u001b[1;33m\u001b[0m\u001b[0m\n\u001b[1;32m----> 4\u001b[1;33m     \u001b[0mnum_cript\u001b[0m \u001b[1;33m=\u001b[0m \u001b[0mord\u001b[0m\u001b[1;33m(\u001b[0m\u001b[0ma\u001b[0m\u001b[1;33m)\u001b[0m \u001b[1;33m+\u001b[0m \u001b[0mchave\u001b[0m\u001b[1;33m\u001b[0m\u001b[1;33m\u001b[0m\u001b[0m\n\u001b[0m\u001b[0;32m      5\u001b[0m \u001b[1;33m\u001b[0m\u001b[0m\n\u001b[0;32m      6\u001b[0m     \u001b[1;32mif\u001b[0m\u001b[1;33m(\u001b[0m\u001b[0mnum_cript\u001b[0m \u001b[1;33m>\u001b[0m \u001b[1;36m126\u001b[0m\u001b[1;33m)\u001b[0m\u001b[1;33m:\u001b[0m\u001b[1;33m\u001b[0m\u001b[1;33m\u001b[0m\u001b[0m\n",
      "\u001b[1;31mNameError\u001b[0m: name 'chave' is not defined"
     ]
    }
   ],
   "source": [
    "str = \"ABCz\"\n",
    "str_retorno = []\n",
    "for a in str:\n",
    "    num_cript = ord(a) + chave\n",
    "    \n",
    "    if(num_cript > 126):\n",
    "        num_cript = 31 + (num_cript % 122)\n",
    "        \n",
    "    char_crip = chr(num_cript)\n",
    "    print(char_crip)\n",
    "    \n",
    "    str_retorno.append(char_crip)\n",
    "        \n",
    "return str_retorno \n",
    "    "
   ]
  },
  {
   "cell_type": "markdown",
   "metadata": {},
   "source": [
    "Leitura de arquivo .txt"
   ]
  },
  {
   "cell_type": "code",
   "execution_count": 1,
   "metadata": {},
   "outputs": [
    {
     "name": "stdout",
     "output_type": "stream",
     "text": [
      "O onibus dos politicos\n",
      "\n",
      "uma noite escura\n",
      "\n",
      "voltando de uma carreata pelo interior\n",
      "\n",
      "um dos onibus\n",
      "\n",
      "lotado de politicos sai da pista\n",
      "\n",
      "capota duas vezes e cai numa fazenda\n",
      "\n",
      "O fazendeiro acorda assustado e vai ver o que aconteceu\n",
      "\n",
      "Ao se deparar com aquela terrivel visao\n",
      "\n",
      "rapidamente comeca a cavar um buraco\n",
      "\n",
      "onde enterra os corpos\n",
      "\n",
      "Alguns dias depois\n",
      "\n",
      "um investigador bate a sua porta e faz varias perguntas sobre o acidente\n",
      "\n",
      "E onde estao os politicos\n",
      "\n",
      "Eu enterrei eles naquela cova ali\n",
      "\n",
      "Mas estavam todos mortos\n",
      "\n",
      "alguns diziam que nao\n",
      "\n",
      "mas o senhor sabe como os politicos sao mentirosos\n",
      "\n"
     ]
    }
   ],
   "source": [
    "filename = \"test.txt\"\n",
    "with open(filename, 'r', errors='ignore') as file:\n",
    "    for line in file:\n",
    "        print(line)\n",
    "        \n",
    "        cript_line = cript(line, chave)"
   ]
  },
  {
   "cell_type": "markdown",
   "metadata": {},
   "source": [
    "Gerando vetor aleatório"
   ]
  },
  {
   "cell_type": "code",
   "execution_count": null,
   "metadata": {},
   "outputs": [],
   "source": [
    "from random import randint\n",
    "\n",
    "tamanho = 100\n",
    "\n",
    "v = [randint(0,tamanho) for i in range(tamanho)]\n",
    "#v.sort()\n",
    "\n",
    "print(v)"
   ]
  },
  {
   "cell_type": "markdown",
   "metadata": {},
   "source": [
    "Busca linear"
   ]
  },
  {
   "cell_type": "code",
   "execution_count": null,
   "metadata": {},
   "outputs": [],
   "source": [
    "def linear_search(v, ele):\n",
    "    for i in range(len(v)):\n",
    "        if(v[i] == ele):\n",
    "            return True\n",
    "    return False\n",
    "\n",
    "if(linear_search(v, 93)):\n",
    "    print(\"Achei!\")\n",
    "else:\n",
    "    print(\"Não achei!\")"
   ]
  },
  {
   "cell_type": "markdown",
   "metadata": {},
   "source": [
    "Ordenação por inserção"
   ]
  },
  {
   "cell_type": "code",
   "execution_count": null,
   "metadata": {},
   "outputs": [],
   "source": [
    "def selection_sort(v):\n",
    "    for i in range(len(v)):\n",
    "        valor_menor = v[i]\n",
    "        id_menor = i\n",
    "        for j in range(i, len(v)):\n",
    "            if v[j] < valor_menor:\n",
    "                valor_menor = v[j]\n",
    "                id_menor = j\n",
    "                \n",
    "        v[i], v[id_menor] = v[id_menor], v[i]\n",
    "        \n",
    "        \n",
    "print(v)\n",
    "selection_sort(v)\n",
    "print(\"\\n\\n\")\n",
    "print(v)"
   ]
  }
 ],
 "metadata": {
  "kernelspec": {
   "display_name": "Python 3",
   "language": "python",
   "name": "python3"
  },
  "language_info": {
   "codemirror_mode": {
    "name": "ipython",
    "version": 3
   },
   "file_extension": ".py",
   "mimetype": "text/x-python",
   "name": "python",
   "nbconvert_exporter": "python",
   "pygments_lexer": "ipython3",
   "version": "3.7.6"
  }
 },
 "nbformat": 4,
 "nbformat_minor": 4
}
